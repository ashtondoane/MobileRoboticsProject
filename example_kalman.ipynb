{
 "cells": [
  {
   "cell_type": "code",
   "execution_count": null,
   "metadata": {},
   "outputs": [],
   "source": [
    "import tdmclient.notebook\n",
    "from Kalman import ekf\n",
    "import time"
   ]
  },
  {
   "cell_type": "code",
   "execution_count": 2,
   "metadata": {},
   "outputs": [],
   "source": [
    "await tdmclient.notebook.start()"
   ]
  },
  {
   "cell_type": "code",
   "execution_count": null,
   "metadata": {},
   "outputs": [],
   "source": [
    "@tdmclient.notebook.sync_var \n",
    "def set_speed(right_speed,left_speed):\n",
    "    global motor_right_target, motor_left_target\n",
    "    motor_right_target=right_speed\n",
    "    motor_left_target=left_speed\n",
    "\n",
    "@tdmclient.notebook.sync_var\n",
    "def stop_thymio():\n",
    "    global motor_right_target,motor_left_target\n",
    "    motor_right_target=0\n",
    "    motor_left_target=0\n",
    "\n",
    "@tdmclient.notebook.sync_var\n",
    "def get_speed():\n",
    "    global motor_right_speed, motor_left_speed\n",
    "    return motor_right_speed,motor_left_speed\n"
   ]
  },
  {
   "cell_type": "code",
   "execution_count": 4,
   "metadata": {},
   "outputs": [],
   "source": [
    "import matplotlib.pyplot as plt\n",
    "import numpy as np\n",
    "\n",
    "\n",
    "def speed_convesion(r_speed,l_speed):\n",
    "    thymio_speed_to_mms = 0.430 # value found in covariance_estimation\n",
    "\n",
    "    avg_thymio_speed = (r_speed + l_speed) / 2\n",
    "    speed = avg_thymio_speed * thymio_speed_to_mms # [mm/s]\n",
    "    return speed\n",
    "\n",
    "def angular_vel_conversion(r_speed,l_speed):\n",
    "    d = 95 # distance between the 2 wheels [mm]\n",
    "    thymio_speed_to_mms = 0.430 # value found in covariance_estimation\n",
    "    \n",
    "    difference_speed = l_speed - r_speed\n",
    "    omega = difference_speed * thymio_speed_to_mms / d # [rad/s]\n",
    "\n",
    "    return omega\n",
    "\n",
    "def get_velocity_vector(r_speed,l_speed):\n",
    "    v=speed_convesion(r_speed,l_speed)\n",
    "    w=angular_vel_conversion(r_speed,l_speed)\n",
    "    return v,w\n"
   ]
  },
  {
   "cell_type": "code",
   "execution_count": 5,
   "metadata": {},
   "outputs": [
    {
     "name": "stdout",
     "output_type": "stream",
     "text": [
      "[ 3.37689798e-02  0.00000000e+00 -2.81754029e-04  2.59778427e+01\n",
      " -2.70019602e-01]\n",
      "[ 4.90686758e+00 -1.45183049e-03 -3.97895929e-02  2.47620619e+01\n",
      " -2.56315955e-01]\n",
      "[ 4.95161552e+00 -3.97765556e-03 -4.01490801e-02  3.13237402e+01\n",
      " -2.23489310e-01]\n",
      "[ 9.74290855 -0.19656131 -0.07402872 31.32042568 -0.22351414]\n",
      "[ 9.77676749 -0.20117209 -0.07549371 31.05421058 -0.26269023]\n",
      "[14.51484971 -0.56223683 -0.11186979 31.05411975 -0.26268338]\n",
      "[14.64149951 -0.57280159 -0.11056025 33.97740173 -0.15638004]\n",
      "[19.59643973 -1.11797199 -0.13996995 33.97740452 -0.15638032]\n",
      "[19.6321057  -1.12307465 -0.1404192  32.3828773  -0.23470804]\n",
      "[24.45887853 -1.8057801  -0.17513336 32.38287731 -0.23470804]\n",
      "[24.43123828 -1.80640238 -0.17767241 28.79519001 -0.30464347]\n",
      "[28.979319   -2.62920877 -0.21704819 28.79519    -0.30464347]\n",
      "[29.0007525  -2.63501292 -0.21793753 31.85136808 -0.25149254]\n",
      "[33.8129001  -3.70238233 -0.25445015 31.85136808 -0.25149254]\n",
      "[33.84205054 -3.71024258 -0.25380771 31.18698154 -0.18715195]\n",
      "[38.44188898 -4.90153964 -0.28501482 31.18698154 -0.18715195]\n",
      "[38.53848744 -4.92967458 -0.2861197  32.91438654 -0.24589771]\n",
      "[43.25409782 -6.31791186 -0.3216289  32.91438654 -0.24589771]\n",
      "[43.26832568 -6.3237441  -0.32222727 31.58561346 -0.24030287]\n",
      "[47.90068215 -7.8714691  -0.35777775 31.58561346 -0.24030287]\n",
      "[47.99693717 -7.9071403  -0.36097098 34.90754615 -0.33821247]\n",
      "[52.75166716 -9.70783524 -0.40300967 34.90754615 -0.33821247]\n",
      "[52.83120247 -9.73991806 -0.40271169 33.04726385 -0.19834162]\n",
      "[ 57.33272388 -11.65533431  -0.43477483  33.04726385  -0.19834162]\n",
      "[ 57.3848441  -11.67785809  -0.43434329  33.18014115  -0.20113904]\n",
      "[ 61.88105583 -13.76160267  -0.46696531  33.18014115  -0.20113904]\n",
      "[ 61.91290808 -13.77853743  -0.46785982  31.98424538  -0.24869513]\n",
      "[ 66.28932324 -15.99142187  -0.50393272  31.98424538  -0.24869513]\n",
      "[ 66.3099059  -16.00413924  -0.50518918  31.98424538  -0.26547963]\n",
      "[ 70.57155919 -18.36382881  -0.54216503  31.98424538  -0.26547963]\n",
      "[ 70.57194993 -18.36695104  -0.54252712  29.99108577  -0.22351837]\n",
      "[ 74.59860528 -20.7954515   -0.57640946  29.99108577  -0.22351837]\n",
      "[ 74.6043642  -20.80011797  -0.57641215  31.31985885  -0.21792354]\n",
      "[ 78.66153844 -23.43735508  -0.61024286  31.31985885  -0.21792354]\n",
      "[ 78.69691854 -23.46198631  -0.61084068  32.64863192  -0.24030287]\n",
      "[ 82.74478016 -26.29698261  -0.64628482  32.64863192  -0.24030287]\n",
      "[ 82.76764596 -26.31400624  -0.64613946  32.11712269  -0.2123287 ]\n",
      "[ 86.70831204 -29.28482128  -0.67987491  32.11712269  -0.2123287 ]\n",
      "[ 86.79892204 -29.35457111  -0.68062786  35.30617807  -0.24589771]\n",
      "[ 90.76940473 -32.56935831  -0.71635187  35.30617807  -0.24589771]\n",
      "[ 90.82147091 -32.61208719  -0.71598663  33.57877308  -0.20393645]\n",
      "[ 94.4691815  -35.78513688  -0.74953366  31.45273615  -0.21512612]\n",
      "[ 94.52409604 -35.83715868  -0.75106333  32.51575462  -0.26547963]\n",
      "[ 98.0850225  -39.16458932  -0.78779059  32.51575462  -0.26547963]\n",
      "[ 98.18612942 -39.26485179  -0.79077688  35.17330077  -0.32142797]\n",
      "[101.75935602 -42.88281328  -0.83153736  35.17330077  -0.32142797]\n",
      "[101.77057586 -42.89705922  -0.83250001  31.71849077  -0.25428996]\n",
      "[105.02624143 -46.47762112  -0.86861064  31.71849077  -0.25428996]\n",
      "[105.02790088 -46.4818211   -0.86913058  31.18698154  -0.23750546]\n",
      "[108.1235014  -50.14635881  -0.90405661  31.18698154  -0.23750546]\n",
      "[108.09783075 -50.11770903  -0.90383575  29.59245385  -0.20953129]\n",
      "[111.01816    -53.82709065  -0.93709239  29.59245385  -0.20953129]\n"
     ]
    },
    {
     "ename": "KeyboardInterrupt",
     "evalue": "",
     "output_type": "error",
     "traceback": [
      "\u001b[1;31m---------------------------------------------------------------------------\u001b[0m",
      "\u001b[1;31mKeyboardInterrupt\u001b[0m                         Traceback (most recent call last)",
      "Cell \u001b[1;32mIn[5], line 26\u001b[0m\n\u001b[0;32m     24\u001b[0m Ts \u001b[38;5;241m=\u001b[39m actual_time \u001b[38;5;241m-\u001b[39m time_prev\n\u001b[0;32m     25\u001b[0m \u001b[38;5;28;01mif\u001b[39;00m Ts \u001b[38;5;241m<\u001b[39m \u001b[38;5;241m0.15\u001b[39m:\n\u001b[1;32m---> 26\u001b[0m     time\u001b[38;5;241m.\u001b[39msleep(\u001b[38;5;241m0.15\u001b[39m\u001b[38;5;241m-\u001b[39mTs)\n\u001b[0;32m     27\u001b[0m time_prev \u001b[38;5;241m=\u001b[39m actual_time\n\u001b[0;32m     29\u001b[0m v_right_odo, v_left_odo\u001b[38;5;241m=\u001b[39mget_speed()\n",
      "\u001b[1;31mKeyboardInterrupt\u001b[0m: "
     ]
    }
   ],
   "source": [
    "time_prev = time.time()\n",
    "\n",
    "\n",
    "input_right_speed=100\n",
    "input_left_speed=50\n",
    "\n",
    "thymio_speed_to_mms = 0.430 #value found in covariance_estimation\n",
    "L= 95 # distance between the 2 wheels in mm\n",
    "\n",
    "obs_camera=[np.nan,np.nan,np.nan]\n",
    "camera_state=False\n",
    "\n",
    "set_speed(input_right_speed,input_left_speed)\n",
    "\n",
    "input_v = speed_convesion(input_right_speed,input_left_speed)\n",
    "input_w = angular_vel_conversion(input_right_speed,input_left_speed)\n",
    "control_vect=[input_v,input_w]\n",
    "\n",
    "x_est=[0,0,0,0,0]\n",
    "P_est=np.diag([0.1,0.1,0.1,0.1,0.1])\n",
    "\n",
    "while True:\n",
    "    actual_time = time.time()\n",
    "    Ts = actual_time - time_prev\n",
    "    if Ts < 0.15:\n",
    "        time.sleep(0.15-Ts)\n",
    "    time_prev = actual_time\n",
    "\n",
    "    v_right_odo, v_left_odo=get_speed()\n",
    "\n",
    "    actual_v = speed_convesion(v_right_odo,v_left_odo)\n",
    "    actual_w = angular_vel_conversion(v_right_odo,v_left_odo)\n",
    "    obs_odometry=[actual_v,actual_w]\n",
    "\n",
    "    x_est, P_est = ekf(x_est, control_vect, P_est, obs_camera, obs_odometry, camera_state,Ts)\n",
    "    print(x_est)\n",
    "\n"
   ]
  },
  {
   "cell_type": "code",
   "execution_count": 6,
   "metadata": {},
   "outputs": [],
   "source": [
    "stop_thymio()"
   ]
  }
 ],
 "metadata": {
  "kernelspec": {
   "display_name": "base",
   "language": "python",
   "name": "python3"
  },
  "language_info": {
   "codemirror_mode": {
    "name": "ipython",
    "version": 3
   },
   "file_extension": ".py",
   "mimetype": "text/x-python",
   "name": "python",
   "nbconvert_exporter": "python",
   "pygments_lexer": "ipython3",
   "version": "3.12.3"
  }
 },
 "nbformat": 4,
 "nbformat_minor": 2
}
