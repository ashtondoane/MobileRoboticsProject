{
 "cells": [
  {
   "cell_type": "code",
   "execution_count": null,
   "metadata": {},
   "outputs": [],
   "source": [
    "# Import tdmclient Notebook environment:\n",
    "import tdmclient.notebook\n",
    "from Kalman import ekf\n",
    "await tdmclient.notebook.start()"
   ]
  },
  {
   "cell_type": "code",
   "execution_count": null,
   "metadata": {},
   "outputs": [],
   "source": [
    "\n",
    "@tdmclient.notebook.sync_var \n",
    "def set_speed(right_speed,left_speed):\n",
    "    global motor_right_target, motor_left_target\n",
    "    motor_right_target=right_speed\n",
    "    motor_left_target=left_speed\n",
    "\n",
    "@tdmclient.notebook.sync_var\n",
    "def stop_thymio():\n",
    "    global motor_right_target,motor_left_target\n",
    "    motor_right_target=0\n",
    "    motor_left_target=0\n",
    "\n",
    "@tdmclient.notebook.sync_var\n",
    "def get_speed():\n",
    "    global motor_right_speed, motor_left_speed\n",
    "    return motor_right_speed,motor_left_speed\n"
   ]
  },
  {
   "cell_type": "code",
   "execution_count": null,
   "metadata": {},
   "outputs": [],
   "source": []
  },
  {
   "cell_type": "code",
   "execution_count": null,
   "metadata": {},
   "outputs": [],
   "source": [
    "import matplotlib.pyplot as plt\n",
    "import numpy as np\n",
    "\n",
    "\n",
    "def speed_convesion(r_speed,l_speed):\n",
    "    thymio_speed_to_mms = 0.430 # value found in covariance_estimation\n",
    "\n",
    "    #odometry \n",
    "    avg_thymio_speed = (r_speed + l_speed) / 2\n",
    "    speed = avg_thymio_speed * thymio_speed_to_mms # [mm/s]\n",
    "    return speed\n",
    "\n",
    "def angular_vel_conversion(r_speed,l_speed):\n",
    "    d = 95 # distance between the 2 wheels [mm]\n",
    "    thymio_speed_to_mms = 0.430 # value found in covariance_estimation\n",
    "    \n",
    "    difference_speed = l_speed - r_speed\n",
    "    omega = difference_speed * thymio_speed_to_mms / d # [rad/s]\n",
    "\n",
    "    return omega\n",
    "print()"
   ]
  },
  {
   "cell_type": "code",
   "execution_count": null,
   "metadata": {},
   "outputs": [],
   "source": [
    "\n",
    "\n",
    "state_est_prev=[0,0,0,0,0]\n",
    "P_prev=np.diag([0.1,0.1,0.1,0.1,0.1])\n",
    "\n",
    "obs_camera=[np.nan,np.nan,np.nan]\n",
    "\n",
    "camera_state=False\n",
    "\n",
    "\n",
    "# faire une boucle ici\n",
    "actual_v=speed_convesion(get_speed())\n",
    "actual_w=angular_vel_conversion(get_speed())\n",
    "obs_odometry=np.concatenate((actual_v,actual_w))\n",
    "\n",
    "input_v=speed_convesion(r_speed,l_speed)\n",
    "input_w=angular_vel_conversion(r_speed,l_speed)\n",
    "control_vect_prev=np.concatenate((input_v,input_w))\n",
    "\n",
    "\n",
    "state_est, P_est = ekf(state_est_prev, control_vect_prev, P_prev, obs_camera, obs_odometry, camera_state)\n",
    "\n",
    "state_est_prev=state_est\n",
    "P_prev=P_est"
   ]
  }
 ],
 "metadata": {
  "language_info": {
   "name": "python"
  }
 },
 "nbformat": 4,
 "nbformat_minor": 2
}
