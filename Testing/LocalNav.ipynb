{
 "cells": [
  {
   "cell_type": "code",
   "execution_count": 9,
   "metadata": {},
   "outputs": [],
   "source": [
    "from PIL import Image,  ImageDraw\n",
    "import numpy as np\n",
    "import math\n",
    "import heapq\n",
    "import matplotlib.pyplot as plt\n",
    "import Path_planning\n",
    "from Kalman import ekf\n",
    "import time\n",
    "from ThymioVision import ThymioVision\n",
    "import Control"
   ]
  },
  {
   "cell_type": "code",
   "execution_count": 2,
   "metadata": {},
   "outputs": [],
   "source": [
    "import tdmclient.notebook\n",
    "await tdmclient.notebook.start()"
   ]
  },
  {
   "cell_type": "code",
   "execution_count": 3,
   "metadata": {},
   "outputs": [],
   "source": [
    "# Robot-specific constants\n",
    "ROBOT_CENTER_TO_WHEEL = 47.5  # Half the wheelbase mm\n",
    "ROBOT_WHEEL_RADIUS = 22    # Radius of the wheels mm\n",
    "SPEED_THRESHOLD = 100         # Max Thymio wheel speed\n",
    "\n",
    "# Normalize angle to (-pi, pi)\n",
    "def normalize_angle(angle):\n",
    "    return (angle + np.pi) % (2 * np.pi) - np.pi\n",
    "\n",
    "# Astolfi Controller for Thymio\n",
    "def astolfi_controller(state, goal, kr= 0.8, ka=  1.2,  goal_tolerance=20):\n",
    "    #alpha doit etre plus grand que rho pour Julien \n",
    "    \n",
    "    x = state[0] #en mm \n",
    "    y = state[1] #en mm \n",
    "    theta = state[2]\n",
    "    x_goal, y_goal = goal\n",
    "    dx = x_goal - x\n",
    "    dy = y_goal - y\n",
    "    rho = np.sqrt(dx**2 + dy**2)  # Distance to goal\n",
    "\n",
    "    print (\"Distance to goal = \" , rho )\n",
    "    alpha = normalize_angle(np.arctan2(dy, dx) - theta)\n",
    "    #beta = normalize_angle(- theta - alpha)\n",
    "    # Stop if the robot is close enough to the goal\n",
    "    if rho < goal_tolerance:\n",
    "        return 0.0, 0.0, True\n",
    "    # Control laws\n",
    "    v = kr * rho #kr > 0 \n",
    "    #v = max(kr * rho, MIN_SPEED) \n",
    "    omega = ka * alpha \n",
    "    return v, omega, False\n",
    "\n",
    "\n",
    "# Convert velocities to motor speeds\n",
    "def compute_motor_speeds(v, omega):\n",
    "\n",
    "    # Convert speed thresholds for clipping\n",
    "    max_v = SPEED_THRESHOLD * 0.388  # Max linear velocity in mm/s\n",
    "    max_omega = max_v / ROBOT_CENTER_TO_WHEEL  # Max angular velocity in rad/s\n",
    "\n",
    "    v = np.clip(v, -max_v, max_v) #actul control velocity given to the thymio \n",
    "    omega = np.clip(omega, -max_omega, max_omega)\n",
    "\n",
    "    right_wheel_mm_s = (v + omega * ROBOT_CENTER_TO_WHEEL)  # mm/s\n",
    "    left_wheel_mm_s = (v - omega * ROBOT_CENTER_TO_WHEEL)  # mm/s\n",
    "\n",
    "    thymio_speed_to_mms = 0.388\n",
    "    right_wheel_enc = np.clip(right_wheel_mm_s / thymio_speed_to_mms, -SPEED_THRESHOLD, SPEED_THRESHOLD)\n",
    "    left_wheel_enc = np.clip(left_wheel_mm_s / thymio_speed_to_mms, -SPEED_THRESHOLD, SPEED_THRESHOLD)\n",
    "\n",
    "    # Debugging outputs\n",
    "    #print(f\"Clipped control inputs: v = {v}, omega = {omega}\")\n",
    "    #print(f\"left wheel control speed = {left_wheel_enc}, right wheel control speed = {right_wheel_enc}\")\n",
    "\n",
    "    return int(left_wheel_enc), int(right_wheel_enc) , v , omega "
   ]
  },
  {
   "cell_type": "code",
   "execution_count": null,
   "metadata": {},
   "outputs": [],
   "source": [
    "#fonctions de Julie \n",
    "@tdmclient.notebook.sync_var \n",
    "def set_speed(right_speed,left_speed):\n",
    "    global motor_right_target, motor_left_target\n",
    "    motor_right_target=right_speed\n",
    "    motor_left_target=left_speed\n",
    "\n",
    "@tdmclient.notebook.sync_var\n",
    "def stop_thymio():\n",
    "    global motor_right_target,motor_left_target\n",
    "    motor_right_target=0\n",
    "    motor_left_target=0\n",
    "\n",
    "@tdmclient.notebook.sync_var\n",
    "def get_speed():\n",
    "    global motor_right_speed, motor_left_speed\n",
    "    return motor_right_speed,motor_left_speed\n",
    "\n",
    "def speed_convesion(r_speed,l_speed):\n",
    "    thymio_speed_to_mms = 0.388 # value found in covariance_estimation\n",
    "\n",
    "    #odometry \n",
    "    avg_thymio_speed = (r_speed + l_speed) / 2\n",
    "    speed = avg_thymio_speed * thymio_speed_to_mms # [mm/s]\n",
    "    return speed\n",
    "\n",
    "def angular_vel_conversion(r_speed,l_speed):\n",
    "    d = 95 # distance between the 2 wheels [mm]\n",
    "    thymio_speed_to_mms = 0.388 # value found in covariance_estimation\n",
    "    \n",
    "    difference_speed = l_speed - r_speed\n",
    "    omega = difference_speed * thymio_speed_to_mms / d # [rad/s]\n",
    "\n",
    "    return omega"
   ]
  },
  {
   "cell_type": "code",
   "execution_count": 4,
   "metadata": {},
   "outputs": [],
   "source": [
    "def move_to_waypoint(state, waypoint, goal_tolerance=20):\n",
    "    # Astolfi controller to compute control signals\n",
    "    v, omega, reached = astolfi_controller(state, waypoint, goal_tolerance=goal_tolerance)\n",
    "    if reached:\n",
    "        return 0, 0, True , 0 ,0\n",
    "    # Convert control signals to motor speeds\n",
    "    left_speed, right_speed ,v_f , omega_f = compute_motor_speeds(v, omega)\n",
    "    return left_speed, right_speed, False , v_f , omega_f  #in Thymio's units "
   ]
  },
  {
   "cell_type": "code",
   "execution_count": 5,
   "metadata": {},
   "outputs": [],
   "source": [
    "@tdmclient.notebook.sync_var\n",
    "def get_proximity_values():\n",
    "    global prox_horizontal\n",
    "    prox = prox_horizontal\n",
    "    prox_front = prox[2]\n",
    "    prox_left = prox[0]\n",
    "    prox_left_front = prox[1]\n",
    "    prox_right_front = prox[3]\n",
    "    prox_right = prox[4]\n",
    "    return prox_front, prox_left, prox_left_front, prox_right_front, prox_right"
   ]
  },
  {
   "cell_type": "code",
   "execution_count": 6,
   "metadata": {},
   "outputs": [
    {
     "name": "stderr",
     "output_type": "stream",
     "text": [
      "2024-12-02 11:44:31.533 Python[3300:103024] WARNING: AVCaptureDeviceTypeExternal is deprecated for Continuity Cameras. Please use AVCaptureDeviceTypeContinuityCamera and add NSCameraUseContinuityCameraDeviceType to your Info.plist.\n",
      "2024-12-02 11:44:31.974 Python[3300:103024] +[IMKClient subclass]: chose IMKClient_Legacy\n",
      "2024-12-02 11:44:31.974 Python[3300:103024] +[IMKInputSession subclass]: chose IMKInputSession_Legacy\n"
     ]
    }
   ],
   "source": [
    "frame = ThymioVision.captureImageOnCommand(0)\n",
    "map = ThymioVision.getMap(frame, verbose=True)\n",
    "obstacles = map[0]\n",
    "start = map[1]\n",
    "end = map[2]"
   ]
  },
  {
   "cell_type": "code",
   "execution_count": 7,
   "metadata": {},
   "outputs": [
    {
     "data": {
      "text/plain": [
       "[<matplotlib.lines.Line2D at 0x12b7481d0>]"
      ]
     },
     "execution_count": 7,
     "metadata": {},
     "output_type": "execute_result"
    },
    {
     "data": {
      "image/png": "[encoded data removed]",
      "text/plain": [
       "<Figure size 640x480 with 1 Axes>"
      ]
     },
     "metadata": {},
     "output_type": "display_data"
    }
   ],
   "source": [
    "plt.imshow(map[0])\n",
    "pose = map[1]\n",
    "goal = map[2]\n",
    "plt.plot([pose[0]], [pose[1]], 'o')\n",
    "plt.plot([goal[0]], [goal[1]], 'o')"
   ]
  },
  {
   "cell_type": "code",
   "execution_count": 8,
   "metadata": {},
   "outputs": [
    {
     "name": "stdout",
     "output_type": "stream",
     "text": [
      "Path found: [[897, 843], [897, 844], [897, 845], [897, 846], [897, 847], [896, 848], [896, 849], [895, 850], [894, 851], [893, 852], [892, 853], [891, 854], [890, 855], [889, 856], [888, 857], [887, 858], [886, 859], [885, 860], [884, 861], [883, 862], [882, 863], [881, 864], [880, 865], [879, 866], [878, 867], [877, 868], [876, 869], [875, 870], [874, 871], [873, 872], [872, 873], [871, 874], [870, 875], [869, 876], [868, 877], [867, 878], [866, 879], [865, 880], [864, 881], [863, 882], [862, 883], [861, 884], [860, 885], [859, 886], [858, 887], [857, 888], [856, 889], [855, 890], [854, 891], [853, 892], [852, 893], [851, 894], [850, 895], [849, 896], [848, 897], [847, 898], [847, 899], [846, 900], [845, 901], [845, 902], [844, 903], [843, 904], [842, 905], [841, 906], [841, 907], [840, 908], [840, 909], [839, 910], [839, 911], [838, 912], [838, 913], [837, 914], [836, 915], [835, 916], [835, 917], [834, 918], [833, 919], [832, 920], [831, 921], [830, 922], [829, 923], [828, 924], [827, 925], [826, 926], [825, 927], [824, 928], [823, 929], [822, 930], [821, 931], [820, 932], [819, 933], [818, 934], [817, 935], [816, 936], [815, 937], [814, 938], [813, 939], [812, 940], [811, 941], [810, 942], [809, 943], [808, 944], [807, 945], [807, 946], [806, 947], [805, 948], [804, 949], [803, 950], [802, 951], [801, 952], [801, 953], [801, 954], [800, 955], [799, 956], [798, 957], [797, 958], [796, 959], [796, 960], [795, 961], [794, 962], [794, 963], [794, 964], [794, 965], [794, 966], [794, 967], [794, 968], [794, 969], [794, 970], [794, 971], [794, 972], [793, 973], [792, 974], [791, 975], [790, 976], [790, 977], [789, 978], [789, 979], [789, 980], [789, 981], [789, 982], [788, 983], [788, 984], [788, 985], [787, 986], [787, 987], [787, 988], [787, 989], [786, 990], [786, 991], [785, 992], [785, 993], [785, 994], [785, 995], [785, 996], [785, 997], [785, 998], [785, 999], [785, 1000], [785, 1001], [785, 1002], [785, 1003], [785, 1004], [785, 1005], [785, 1006], [785, 1007], [785, 1008], [785, 1009], [785, 1010], [785, 1011], [785, 1012], [785, 1013], [785, 1014], [784, 1015], [784, 1016], [783, 1017], [782, 1018], [782, 1019], [782, 1020], [781, 1021], [780, 1022], [779, 1023], [779, 1024], [779, 1025], [779, 1026], [779, 1027], [778, 1028], [778, 1029], [778, 1030], [778, 1031], [778, 1032], [778, 1033], [777, 1034], [776, 1035], [776, 1036], [776, 1037], [776, 1038], [776, 1039], [776, 1040], [775, 1041], [774, 1042], [773, 1043], [772, 1044], [772, 1045], [772, 1046], [771, 1047], [771, 1048], [770, 1049], [769, 1050], [769, 1051], [768, 1052], [767, 1053], [766, 1054], [765, 1055], [764, 1056], [763, 1057], [762, 1058], [761, 1059], [760, 1060], [759, 1061], [758, 1062], [757, 1063], [756, 1064], [755, 1065], [754, 1066], [753, 1067], [752, 1068], [751, 1069], [750, 1070], [749, 1071], [748, 1072], [747, 1073], [746, 1074], [745, 1075], [744, 1076], [743, 1077], [742, 1078], [741, 1079], [740, 1080], [739, 1081], [738, 1082], [737, 1083], [737, 1084], [736, 1085], [735, 1086], [735, 1087], [735, 1088], [735, 1089], [734, 1090], [733, 1091], [732, 1092], [732, 1093], [731, 1094], [730, 1095], [729, 1096], [728, 1097], [728, 1098], [727, 1099], [726, 1100], [725, 1101], [724, 1102], [723, 1103], [723, 1104], [722, 1105], [721, 1106], [721, 1107], [721, 1108], [720, 1109], [719, 1110], [718, 1111], [717, 1112], [716, 1113], [716, 1114], [716, 1115], [715, 1116], [714, 1117], [713, 1118], [712, 1119], [711, 1120], [710, 1121], [709, 1122], [708, 1123], [707, 1124], [706, 1125], [705, 1126], [704, 1127], [703, 1128], [702, 1129], [701, 1130], [700, 1131], [700, 1132], [700, 1133], [700, 1134], [700, 1135], [699, 1136], [699, 1137], [698, 1138], [697, 1139], [696, 1140], [696, 1141], [696, 1142], [695, 1143], [694, 1144], [694, 1145], [693, 1146], [692, 1147], [691, 1148], [690, 1149], [689, 1150], [688, 1151], [688, 1152], [688, 1153], [687, 1154], [686, 1155], [686, 1156], [685, 1157], [684, 1158], [683, 1159], [683, 1160], [682, 1161], [681, 1162], [680, 1163], [679, 1164], [679, 1165], [678, 1166], [678, 1167], [677, 1168], [676, 1169], [675, 1170], [675, 1171], [674, 1172], [673, 1173], [672, 1174], [671, 1175], [671, 1176], [671, 1177], [670, 1178], [669, 1179], [669, 1180], [668, 1181], [667, 1182], [666, 1183], [665, 1184], [664, 1185], [663, 1186], [662, 1187], [661, 1188], [660, 1189], [659, 1190], [658, 1191], [657, 1192], [656, 1193], [656, 1194], [656, 1195], [655, 1196], [654, 1197], [653, 1198], [652, 1199], [651, 1200], [650, 1201], [650, 1202], [649, 1203], [648, 1204], [647, 1205], [646, 1206], [645, 1207], [644, 1208], [644, 1209], [643, 1210], [643, 1211], [642, 1212], [641, 1213], [641, 1214], [641, 1215], [640, 1216], [639, 1217], [638, 1218], [638, 1219], [638, 1220], [637, 1221], [636, 1222], [635, 1223], [634, 1224], [633, 1225], [632, 1226], [631, 1227], [631, 1228], [631, 1229], [630, 1230], [630, 1231], [630, 1232], [629, 1233], [628, 1234], [628, 1235], [627, 1236], [627, 1237], [627, 1238], [626, 1239], [625, 1240], [625, 1241], [625, 1242], [624, 1243], [623, 1244], [622, 1245], [621, 1246], [620, 1247], [619, 1248], [618, 1249], [617, 1250], [616, 1251], [615, 1252], [614, 1253], [613, 1254], [612, 1255], [612, 1256], [611, 1257], [611, 1258], [611, 1259], [610, 1260], [610, 1261], [609, 1262], [608, 1263]]\n"
     ]
    }
   ],
   "source": [
    "correctedStart = [start[1], start[0]]\n",
    "correctedGoal = [end[1], end[0]]\n",
    "path = Path_planning.A_star(obstacles, correctedStart, correctedGoal)"
   ]
  },
  {
   "cell_type": "code",
   "execution_count": 10,
   "metadata": {},
   "outputs": [
    {
     "data": {
      "text/plain": [
       "12"
      ]
     },
     "execution_count": 10,
     "metadata": {},
     "output_type": "execute_result"
    }
   ],
   "source": [
    "swapped = Path_planning.swap_path_coordinates(path)\n",
    "waypoints = []\n",
    "for point in swapped:\n",
    "    x, y = ThymioVision.pixelToRealSpace(point)\n",
    "    waypoints.append((x*10, y*10))\n",
    "waypoints = Control.segment_path(waypoints, step=40)\n",
    "len(waypoints)"
   ]
  },
  {
   "cell_type": "code",
   "execution_count": null,
   "metadata": {},
   "outputs": [
    {
     "name": "stdout",
     "output_type": "stream",
     "text": [
      "Goal (362.25, 605.25)\n",
      "Goal tracking : (362.25, 605.25)\n",
      "Distance to goal =  nan\n"
     ]
    },
    {
     "ename": "ValueError",
     "evalue": "cannot convert float NaN to integer",
     "output_type": "error",
     "traceback": [
      "\u001b[0;31m---------------------------------------------------------------------------\u001b[0m",
      "\u001b[0;31mValueError\u001b[0m                                Traceback (most recent call last)",
      "Cell \u001b[0;32mIn[11], line 86\u001b[0m\n\u001b[1;32m     83\u001b[0m     \u001b[38;5;28mprint\u001b[39m(\u001b[38;5;124m\"\u001b[39m\u001b[38;5;124mGoal tracking :\u001b[39m\u001b[38;5;124m\"\u001b[39m, waypoint)\n\u001b[1;32m     84\u001b[0m      \u001b[38;5;66;03m# Move towards the waypoint\u001b[39;00m\n\u001b[1;32m     85\u001b[0m     \u001b[38;5;66;03m# input_left_speed, input_right_speed, reached , v_f , omega_f  = move_to_waypoint(state_est, waypoint, goal_tolerance)\u001b[39;00m\n\u001b[0;32m---> 86\u001b[0m     input_left_speed, input_right_speed, reached , v_f , omega_f  \u001b[38;5;241m=\u001b[39m \u001b[43mmove_to_waypoint\u001b[49m\u001b[43m(\u001b[49m\u001b[43mobs_camera\u001b[49m\u001b[43m,\u001b[49m\u001b[43m \u001b[49m\u001b[43mwaypoint\u001b[49m\u001b[43m,\u001b[49m\u001b[43m \u001b[49m\u001b[43mgoal_tolerance\u001b[49m\u001b[43m)\u001b[49m\n\u001b[1;32m     87\u001b[0m \u001b[38;5;28;01melse\u001b[39;00m:\n\u001b[1;32m     88\u001b[0m     \u001b[38;5;66;03m# Obstacle avoidance\u001b[39;00m\n\u001b[1;32m     89\u001b[0m     \u001b[38;5;28mprint\u001b[39m(\u001b[38;5;124m\"\u001b[39m\u001b[38;5;124mObstacle detected !! \u001b[39m\u001b[38;5;124m\"\u001b[39m)\n",
      "Cell \u001b[0;32mIn[4], line 7\u001b[0m, in \u001b[0;36mmove_to_waypoint\u001b[0;34m(state, waypoint, goal_tolerance)\u001b[0m\n\u001b[1;32m      5\u001b[0m     \u001b[38;5;28;01mreturn\u001b[39;00m \u001b[38;5;241m0\u001b[39m, \u001b[38;5;241m0\u001b[39m, \u001b[38;5;28;01mTrue\u001b[39;00m , \u001b[38;5;241m0\u001b[39m ,\u001b[38;5;241m0\u001b[39m\n\u001b[1;32m      6\u001b[0m \u001b[38;5;66;03m# Convert control signals to motor speeds\u001b[39;00m\n\u001b[0;32m----> 7\u001b[0m left_speed, right_speed ,v_f , omega_f \u001b[38;5;241m=\u001b[39m \u001b[43mcompute_motor_speeds\u001b[49m\u001b[43m(\u001b[49m\u001b[43mv\u001b[49m\u001b[43m,\u001b[49m\u001b[43m \u001b[49m\u001b[43momega\u001b[49m\u001b[43m)\u001b[49m\n\u001b[1;32m      8\u001b[0m \u001b[38;5;28;01mreturn\u001b[39;00m left_speed, right_speed, \u001b[38;5;28;01mFalse\u001b[39;00m , v_f , omega_f\n",
      "Cell \u001b[0;32mIn[3], line 56\u001b[0m, in \u001b[0;36mcompute_motor_speeds\u001b[0;34m(v, omega)\u001b[0m\n\u001b[1;32m     50\u001b[0m left_wheel_enc \u001b[38;5;241m=\u001b[39m np\u001b[38;5;241m.\u001b[39mclip(left_wheel_mm_s \u001b[38;5;241m/\u001b[39m thymio_speed_to_mms, \u001b[38;5;241m-\u001b[39mSPEED_THRESHOLD, SPEED_THRESHOLD)\n\u001b[1;32m     52\u001b[0m \u001b[38;5;66;03m# Debugging outputs\u001b[39;00m\n\u001b[1;32m     53\u001b[0m \u001b[38;5;66;03m#print(f\"Clipped control inputs: v = {v}, omega = {omega}\")\u001b[39;00m\n\u001b[1;32m     54\u001b[0m \u001b[38;5;66;03m#print(f\"left wheel control speed = {left_wheel_enc}, right wheel control speed = {right_wheel_enc}\")\u001b[39;00m\n\u001b[0;32m---> 56\u001b[0m \u001b[38;5;28;01mreturn\u001b[39;00m \u001b[38;5;28;43mint\u001b[39;49m\u001b[43m(\u001b[49m\u001b[43mleft_wheel_enc\u001b[49m\u001b[43m)\u001b[49m, \u001b[38;5;28mint\u001b[39m(right_wheel_enc) , v , omega\n",
      "\u001b[0;31mValueError\u001b[0m: cannot convert float NaN to integer"
     ]
    }
   ],
   "source": [
    "#ligne droite distance 70 mm entre waypoints\n",
    "\"\"\" waypoints =  [\n",
    "    (0.0, 0.0),\n",
    "    (69.7, 1.6),\n",
    "    (138.2, 13.1),\n",
    "    (204.1, 34.2),\n",
    "    (265.9, 64.3),\n",
    "    (322.2, 102.5),\n",
    "    (371.6, 147.6),\n",
    "    (413.0, 198.3),\n",
    "    (445.3, 253.3),\n",
    "    (467.5, 311.2)\n",
    "] \"\"\"\n",
    "\n",
    "# waypoints = [\n",
    "#     (0.0, 0.0),\n",
    "#     (70.0, 0.0),\n",
    "#     (140.0, 0.0),\n",
    "#     (210.0, 0.0),\n",
    "#     (280.0, 0.0),\n",
    "#     (350.0, 0.0),\n",
    "#     (420.0, 0.0),\n",
    "#     (490.0, 0.0),\n",
    "#     (560.0, 0.0),\n",
    "#     (630.0, 0.0)\n",
    "# ]\n",
    "\n",
    "\n",
    "# Initial state [x, y, theta]\n",
    "state_est=[0,0,0,0,0] \n",
    "P_est=np.diag([0.1,0.1,0.1,0.1,0.1])\n",
    "goal_tolerance = 30\n",
    "\n",
    "obs_camera=[np.nan,np.nan,np.nan]\n",
    "camera_state=False\n",
    "\n",
    "obstSpeedGain = [4, 2, -2.5, -3, -5]  # Gains for obstacle avoidance\n",
    "OBSTACLE_THRESH_LOW_FRONT = 5 # Threshold to stop avoiding\n",
    "OBSTACLE_THRESH_HIGH_FRONT = 15 # Threshold to start avoiding\n",
    "thymio_state = 0  # 0 = Goal tracking, 1 = Obstacle avoidance\n",
    "\n",
    "# Logging data\n",
    "trajectory = []  # To store [x, y] positions\n",
    "trajectory = []  # Logs (x, y) positions\n",
    "metrics_rho = []  # Logs for distance to goal\n",
    "metrics_alpha = []  # Logs for angle to goal\n",
    "\n",
    "#logging pour local nav \n",
    "left_speeds = []  # Logs left wheel speeds \n",
    "right_speeds = []  # Logs right wheel speeds\n",
    "proximity_sensor_data = [] \n",
    "thymio_modes = []\n",
    "\n",
    "time_prev = time.time()\n",
    "\n",
    "# Start motion\n",
    "for waypoint in waypoints:\n",
    "    print(\"Goal\" , waypoint)\n",
    "    reached = False\n",
    "    while not reached:\n",
    "        actual_time = time.time()\n",
    "        Ts = actual_time - time_prev\n",
    "        if Ts < 0.15:\n",
    "            time.sleep(0.15-Ts)\n",
    "        time_prev = actual_time\n",
    "\n",
    "        prox_front, prox_left, prox_left_front, prox_right_front, prox_right = get_proximity_values()\n",
    "        proximity_values = [prox_left, prox_left_front, prox_front, prox_right_front, prox_right]\n",
    "    \n",
    "        # Check for obstacle state transitions\n",
    "        if thymio_state == 0:\n",
    "        # Switch to obstacle avoidance if an obstacle is detected\n",
    "            if any((prox // 100) > OBSTACLE_THRESH_HIGH_FRONT for prox in proximity_values) :\n",
    "                thymio_state = 1\n",
    "        elif thymio_state == 1:\n",
    "        # Switch back to goal tracking if obstacles are cleared\n",
    "            if all((prox // 100) < OBSTACLE_THRESH_LOW_FRONT for prox in proximity_values):\n",
    "                print(\"Obstacle avoided\")\n",
    "                thymio_state = 0\n",
    "                break #to go to next waypoint\n",
    "        if thymio_state == 0:\n",
    "            # Goal tracking\n",
    "            print(\"Goal tracking :\", waypoint)\n",
    "             # Move towards the waypoint\n",
    "            # input_left_speed, input_right_speed, reached , v_f , omega_f  = move_to_waypoint(state_est, waypoint, goal_tolerance)\n",
    "            input_left_speed, input_right_speed, reached , v_f , omega_f  = move_to_waypoint(obs_camera, waypoint, goal_tolerance)\n",
    "        else:\n",
    "            # Obstacle avoidance\n",
    "            print(\"Obstacle detected !! \")\n",
    "            proximity_sensor_data.append(proximity_values) \n",
    "           \n",
    "            #Baseline Speed \n",
    "            spLeft = 50 \n",
    "            spRight = 50\n",
    "            if (abs(prox_left_front - prox_right_front) < 20 ) : \n",
    "                if prox_left_front >= prox_right_front:\n",
    "                    # More space on the right, turn right\n",
    "                    print(\"Turning right to avoid obstacle\")\n",
    "                    spLeft += 40  # Boost left wheel speed to turn right\n",
    "                    spRight -= 40  # Slow down right wheel speed\n",
    "                elif  prox_right_front >= prox_left_front:\n",
    "                    # More space on the left, turn left\n",
    "                    print(\"Turning left to avoid obstacle\")\n",
    "                    spLeft -= 40  # Slow down left wheel speed\n",
    "                    spRight += 40  # Boost right wheedl speed\n",
    "                else: \n",
    "                    print(\"Turning right to avoid obstacle par defaut \")\n",
    "                    spLeft += 40  # Boost left wheel speed to turn right\n",
    "                    spRight -= 40  # Slow down right wheel speed\n",
    "            else: \n",
    "                for i in range(5):\n",
    "                    spLeft += proximity_values[i] * obstSpeedGain[i] // 100\n",
    "                    spRight += proximity_values[i] * obstSpeedGain[4 - i] // 100\n",
    "                    \"\"\" if ( proximity_values[i] > OBSTACLE_THRESH_HIGH): \n",
    "                        print ( \"Sensor\" , proximity_values[i])\n",
    "                        print (\"spLeft  = \",spLeft , \"spRight  =\" , spRight) \"\"\"\n",
    "            #time.sleep(0.3) \n",
    "            input_left_speed = int(spLeft)\n",
    "            input_right_speed = int(spRight)\n",
    "            #left_speeds.append(input_left_speed)  # Append left wheel speed\n",
    "            #right_speeds.append(input_right_speed)  \n",
    "            input_right_speed = np.clip(input_right_speed, -200, 200)\n",
    "            input_right_speed = np.clip(input_right_speed, -200, 200)\n",
    "            \n",
    "\n",
    "        set_speed(input_right_speed, input_left_speed)\n",
    "        # Get current odometry data\n",
    "        r_speed_odo, l_speed_odo = get_speed()\n",
    "        actual_v = speed_convesion(r_speed_odo, l_speed_odo)\n",
    "        actual_w = angular_vel_conversion(r_speed_odo, l_speed_odo)\n",
    "        obs_odometry = [actual_v, actual_w]\n",
    "\n",
    "        # Control input\n",
    "        input_v = v_f #Ca jsp si je remplace par actual_v et actual_w\n",
    "        input_w = omega_f\n",
    "        control_vect_prev = [input_v, input_w]\n",
    "\n",
    "        # Update state with Kalman filter\n",
    "        state_est, P_est = ekf(state_est, control_vect_prev, P_est, obs_camera, obs_odometry, camera_state,Ts)\n",
    "        # Log trajectory\n",
    "        trajectory.append((state_est[0], state_est[1]))\n",
    "        thymio_modes.append(thymio_state)\n",
    "        \n",
    "        # Calculate and log metrics\n",
    "        rho = np.sqrt((waypoint[0] - state_est[0])**2 + (waypoint[1] - state_est[1])**2)\n",
    "        alpha = normalize_angle(np.arctan2(waypoint[1] - state_est[1], waypoint[0] - state_est[0]) - state_est[2])\n",
    "        metrics_rho.append(rho)\n",
    "        metrics_alpha.append(alpha)\n",
    "       \n",
    "\n",
    "    # Stop the robot at the waypoint\n",
    "    stop_thymio()\n",
    "    print(f\"Reached waypoint: {waypoint}\")\n",
    "\n",
    "print(\"Trajectory completed!\")"
   ]
  },
  {
   "cell_type": "code",
   "execution_count": null,
   "metadata": {},
   "outputs": [],
   "source": []
  }
 ],
 "metadata": {
  "kernelspec": {
   "display_name": "Python 3",
   "language": "python",
   "name": "python3"
  },
  "language_info": {
   "codemirror_mode": {
    "name": "ipython",
    "version": 3
   },
   "file_extension": ".py",
   "mimetype": "text/x-python",
   "name": "python",
   "nbconvert_exporter": "python",
   "pygments_lexer": "ipython3",
   "version": "3.12.4"
  }
 },
 "nbformat": 4,
 "nbformat_minor": 2
}
